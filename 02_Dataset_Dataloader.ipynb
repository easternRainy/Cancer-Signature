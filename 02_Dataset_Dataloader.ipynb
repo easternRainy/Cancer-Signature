{
 "cells": [
  {
   "cell_type": "markdown",
   "metadata": {},
   "source": [
    "# Dataset and Dataloader"
   ]
  },
  {
   "cell_type": "code",
   "execution_count": 28,
   "metadata": {},
   "outputs": [],
   "source": [
    "import torch \n",
    "import torch.autograd as autograd \n",
    "import torch.nn as nn \n",
    "import torch.nn.functional as F\n",
    "import torch.optim as optim\n",
    "from torch.utils.data import Dataset, DataLoader, WeightedRandomSampler\n",
    "\n",
    "import numpy as np\n",
    "from matplotlib import pyplot as plt\n",
    "import pandas as pd\n",
    "%matplotlib inline\n",
    "\n",
    "from sklearn.datasets import *\n",
    "from sklearn.preprocessing import *\n",
    "from sklearn.model_selection import *\n",
    "from sklearn.metrics import * \n",
    "from scipy import stats"
   ]
  },
  {
   "cell_type": "code",
   "execution_count": 11,
   "metadata": {},
   "outputs": [],
   "source": [
    "class CancerDataset(Dataset):\n",
    "    \n",
    "    # constructor\n",
    "    def __init__(self, df_X, df_y):\n",
    "        assert len(df_X) == len(df_y)\n",
    "        \n",
    "        self.data_list = torch.FloatTensor(df_X.values)\n",
    "        self.target_list = torch.LongTensor(df_y.values)\n",
    "        \n",
    "        assert(len(self.data_list) == len(self.target_list))\n",
    "      \n",
    "    # return the length of dataset\n",
    "    def __len__(self):\n",
    "        return len(self.data_list)\n",
    "    \n",
    "    # return the key-th element of dataset\n",
    "    def __getitem__(self, key):\n",
    "        \n",
    "        return self.data_list[key], self.target_list[key]\n",
    "    "
   ]
  },
  {
   "cell_type": "code",
   "execution_count": 12,
   "metadata": {},
   "outputs": [],
   "source": [
    "class CancerPredictor(nn.Module):\n",
    "    \n",
    "    # constructor\n",
    "    def __init__(self, input_size, hidden_size, n_class):\n",
    "        super().__init__()\n",
    "        \n",
    "        self.input_layer = nn.Linear(input_size, hidden_size)\n",
    "        self.input_relu = nn.ReLU()\n",
    "        self.hidden_linear = nn.Linear(hidden_size, n_class)\n",
    "        \n",
    "        # do not use in forward, but use in predict\n",
    "        self.soft_max = nn.Softmax(dim=-1)\n",
    "\n",
    "    \n",
    "    def forward(self, inputs):\n",
    "        out = None\n",
    "        out = self.input_layer(inputs)\n",
    "        out = self.input_relu(out)\n",
    "        out = self.hidden_linear(out)\n",
    "        \n",
    "        ## We do not compute soft max directly\n",
    "        ## But combine it with loss. Because F.cross_entropy \n",
    "        ## Will compute soft max\n",
    "        # out = self.soft_max(out)\n",
    "        \n",
    "        return out\n",
    "    \n",
    "    def predict_prob(self, inputs):\n",
    "        \"\"\"\n",
    "        call self.forward, then calculate softmax to get the probability\n",
    "        \"\"\"\n",
    "        out = self.forward(inputs)\n",
    "        out = self.soft_max(out)\n",
    "        \n",
    "        return out\n",
    "        \n",
    "    def predict(self, inputs):\n",
    "        \"\"\"\n",
    "        hard predict, call predict_prob, then get the max index\n",
    "        \"\"\"\n",
    "        out = self.predict_prob(inputs)\n",
    "        pred = torch.argmax(out, dim=1)\n",
    "        \n",
    "        return pred\n"
   ]
  },
  {
   "cell_type": "code",
   "execution_count": 13,
   "metadata": {},
   "outputs": [],
   "source": [
    "class Learner():\n",
    "    # constructor\n",
    "    def __init__(self,  model, criterion, optimizer):\n",
    "        \n",
    "        self.model = model\n",
    "        self.criterion = criterion\n",
    "        self.optimizer = optimizer\n",
    "       \n",
    "        \n",
    "    def train(self, train_loader, valid_loader, device, num_epochs, early_stop_patience=5, print_log=True):\n",
    "        self.early_stop_patience = early_stop_patience\n",
    "        no_improve = 0\n",
    "        \n",
    "        train_loss_history = []\n",
    "        valid_loss_history = []\n",
    "        \n",
    "        min_loss = np.Infinity\n",
    "        for epoch in tqdm.notebook.tqdm(range(num_epochs)):\n",
    "            \n",
    "            train_loss_epoch = []\n",
    "            valid_loss_epoch = []\n",
    "            \n",
    "            self.model.train()\n",
    "\n",
    "            for i, (data_batch, target_batch) in enumerate(train_loader):\n",
    "                preds = self.model(data_batch.to(device))\n",
    "                train_loss = self.criterion(preds, target_batch.to(device))\n",
    "                train_loss.backward()\n",
    "                optimizer.step()\n",
    "                optimizer.zero_grad()\n",
    "                train_loss_epoch.append(train_loss.item())\n",
    "            \n",
    "            batch_min_loss = np.Infinity\n",
    "            self.model.eval()\n",
    "            for i, (data_batch, target_batch) in enumerate(valid_loader):\n",
    "                preds = self.model(data_batch.to(device))\n",
    "                valid_loss = criterion(preds, target_batch.to(device))\n",
    "                optimizer.zero_grad()\n",
    "                valid_loss_epoch.append(valid_loss.item())\n",
    "                    \n",
    "                if valid_loss < batch_min_loss:\n",
    "                    batch_min_loss = valid_loss\n",
    "            \n",
    "            mean_train_loss_epoch = np.mean(train_loss_epoch)\n",
    "            mean_valid_loss_epoch = np.mean(valid_loss_epoch)\n",
    "            \n",
    "            train_loss_history.append(mean_train_loss_epoch)\n",
    "            valid_loss_history.append(mean_valid_loss_epoch)\n",
    "            \n",
    "            if batch_min_loss < min_loss:\n",
    "                no_improve = 0\n",
    "                min_loss = batch_min_loss\n",
    "                torch.save(model, 'best_model.pt')\n",
    "            else:\n",
    "                no_improve += 1\n",
    "                if no_improve > self.early_stop_patience:\n",
    "                    print(f\"Early Stop at epoch {epoch}\")\n",
    "                    break\n",
    "                \n",
    "            if print_log:\n",
    "                print(f\"Epoch: {epoch}, train_loss: {mean_train_loss_epoch},\\\n",
    "                        valid_loss: {mean_valid_loss_epoch}\")\n",
    "        \n",
    "        return train_loss_history, valid_loss_history\n",
    "    \n",
    "    def do_test(self, test_loader, device, best_model=None):\n",
    "        if best_model == None:\n",
    "            best_model = self.model\n",
    "            \n",
    "        real_data = []\n",
    "        pred_data = []\n",
    "        best_model.eval()\n",
    "        \n",
    "        for i, (data_batch, target_batch) in enumerate(test_loader):\n",
    "            preds = best_model.predict(data_batch.to(device))\n",
    "            # test_loss = self.criterion(preds, target_batch.to(device))\n",
    "            optimizer.zero_grad()\n",
    "\n",
    "            for i in range(len(target_batch)):\n",
    "                \n",
    "                real_data.append(target_batch[i].item())\n",
    "                pred_data.append(preds[i].item())\n",
    "        \n",
    "        return np.array(real_data), np.array(pred_data)"
   ]
  },
  {
   "cell_type": "code",
   "execution_count": 43,
   "metadata": {},
   "outputs": [],
   "source": [
    "df = pd.read_csv('train_ml2_2021.csv')\n",
    "X = df.drop(columns=['target', 'problem_id'])\n",
    "y = df.target\n",
    "df_test = pd.read_csv('test0.csv', index_col='obs_id').drop(columns=['problem_id'])"
   ]
  },
  {
   "cell_type": "code",
   "execution_count": 15,
   "metadata": {},
   "outputs": [],
   "source": [
    "X_train, X_val, y_train, y_val = train_test_split(X, y, train_size=0.8, random_state=1)"
   ]
  },
  {
   "cell_type": "code",
   "execution_count": 62,
   "metadata": {},
   "outputs": [],
   "source": [
    "def make_weights(dataset):\n",
    "    X = dataset.data_list\n",
    "    Y = dataset.target_list\n",
    "    nclasses = Y.unique(return_counts=True)[1] / Y.shape[0]\n",
    "    \n",
    "    return torch.DoubleTensor([nclasses[y] for y in Y])\n",
    "\n",
    "train_dataset = CancerDataset(X_train, y_train)\n",
    "valid_dataset = CancerDataset(X_val, y_val)\n",
    "test_dataset = CancerDataset(df_test.drop(columns='target'), df_test.target)\n",
    "\n",
    "weights = make_weights(train_dataset)\n",
    "sampler = WeightedRandomSampler(weights, len(weights))                     \n",
    "\n",
    "batch_size = 64\n",
    "train_loader = DataLoader(train_dataset, batch_size=batch_size, sampler=sampler)\n",
    "valid_loader = DataLoader(valid_dataset, batch_size=batch_size)\n",
    "test_loader = DataLoader(test_dataset, batch_size=batch_size)"
   ]
  },
  {
   "cell_type": "code",
   "execution_count": 17,
   "metadata": {},
   "outputs": [],
   "source": [
    "n, input_size = X.shape\n",
    "hidden_size = 8\n",
    "n_class = len(y.unique())"
   ]
  },
  {
   "cell_type": "code",
   "execution_count": 18,
   "metadata": {},
   "outputs": [],
   "source": [
    "model = CancerPredictor(input_size, hidden_size, n_class)"
   ]
  },
  {
   "cell_type": "code",
   "execution_count": 19,
   "metadata": {},
   "outputs": [],
   "source": [
    "lr = 0.001\n",
    "nb_epoch = 50\n",
    "criterion = F.cross_entropy\n",
    "optimizer = optim.Adam(model.parameters(), lr=lr)"
   ]
  },
  {
   "cell_type": "code",
   "execution_count": 20,
   "metadata": {},
   "outputs": [],
   "source": [
    "if torch.cuda.is_available():\n",
    "    device = torch.device(\"cuda: 5\")\n",
    "else:\n",
    "    device = torch.device(\"cpu\")"
   ]
  },
  {
   "cell_type": "code",
   "execution_count": 21,
   "metadata": {},
   "outputs": [],
   "source": [
    "learner = Learner(model, criterion, optimizer)"
   ]
  },
  {
   "cell_type": "code",
   "execution_count": 22,
   "metadata": {},
   "outputs": [
    {
     "data": {
      "application/vnd.jupyter.widget-view+json": {
       "model_id": "c0bfa2e91e3d40a594af5eb9472d8a4e",
       "version_major": 2,
       "version_minor": 0
      },
      "text/plain": [
       "HBox(children=(HTML(value=''), FloatProgress(value=0.0, max=50.0), HTML(value='')))"
      ]
     },
     "metadata": {},
     "output_type": "display_data"
    },
    {
     "name": "stdout",
     "output_type": "stream",
     "text": [
      "Early Stop at epoch 19\n",
      "\n"
     ]
    }
   ],
   "source": [
    "train_log, valid_log = learner.train(train_loader, valid_loader, device, nb_epoch, early_stop_patience=10, \\\n",
    "                                    print_log=False)"
   ]
  },
  {
   "cell_type": "code",
   "execution_count": 71,
   "metadata": {},
   "outputs": [
    {
     "data": {
      "image/png": "[encoded data removed]",
      "text/plain": [
       "<Figure size 360x216 with 1 Axes>"
      ]
     },
     "metadata": {
      "needs_background": "light"
     },
     "output_type": "display_data"
    }
   ],
   "source": [
    "fig, ax = plt.subplots(figsize=(5, 3))\n",
    "ax.plot(train_log, label=\"train_loss\")\n",
    "ax.plot(valid_log, label=\"valid_loss\")\n",
    "ax.set_xlabel('Number of iterations')\n",
    "ax.set_ylabel('Log loss')\n",
    "ax.legend()\n",
    "plt.show()"
   ]
  },
  {
   "cell_type": "code",
   "execution_count": 65,
   "metadata": {},
   "outputs": [],
   "source": [
    "# get best model\n",
    "best_model = torch.load(\"best_model.pt\")"
   ]
  },
  {
   "cell_type": "code",
   "execution_count": 72,
   "metadata": {},
   "outputs": [
    {
     "name": "stdout",
     "output_type": "stream",
     "text": [
      "Validation accuracy: 0.70893\n",
      "Test accuracy: 0.82656\n"
     ]
    }
   ],
   "source": [
    "# val accuracy\n",
    "y_val, y_val_pred = learner.do_test(train_loader, device, best_model=best_model)\n",
    "val_accuracy = accuracy_score(y_val, y_val_pred)\n",
    "\n",
    "# test accuracy\n",
    "y_test, y_test_pred = learner.do_test(test_loader, device, best_model=best_model)\n",
    "test_accuracy = accuracy_score(y_test, y_test_pred)\n",
    "\n",
    "print(f'Validation accuracy: {val_accuracy:.5f}')\n",
    "print(f'Test accuracy: {test_accuracy:.5f}')"
   ]
  }
 ],
 "metadata": {
  "kernelspec": {
   "display_name": "Python 3",
   "language": "python",
   "name": "python3"
  },
  "language_info": {
   "codemirror_mode": {
    "name": "ipython",
    "version": 3
   },
   "file_extension": ".py",
   "mimetype": "text/x-python",
   "name": "python",
   "nbconvert_exporter": "python",
   "pygments_lexer": "ipython3",
   "version": "3.8.5"
  }
 },
 "nbformat": 4,
 "nbformat_minor": 4
}
